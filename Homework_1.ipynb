{
 "cells": [
  {
   "cell_type": "markdown",
   "metadata": {
    "id": "kLM_MLD4ghRU"
   },
   "source": [
    "# Homework No. 1"
   ]
  },
  {
   "cell_type": "markdown",
   "metadata": {
    "id": "nCNKA8fglcMs"
   },
   "source": [
    "The following jupyter notebook contains the results of the first homework for the course: \"Data Visualization\" and was created by Franz Just.\n",
    "\n",
    "To execute the jupyter notebook, the following libraries are required to install:\n",
    "- pandas\n",
    "- seaborn\n",
    "- matplotlib"
   ]
  },
  {
   "cell_type": "code",
   "execution_count": 1,
   "metadata": {
    "id": "YtuvQAxKwdBg"
   },
   "outputs": [],
   "source": [
    "%matplotlib inline\n",
    "import pandas as pd\n",
    "import seaborn as sns\n",
    "import matplotlib.pyplot as plt\n",
    "import warnings\n",
    "warnings.filterwarnings('ignore')"
   ]
  },
  {
   "cell_type": "markdown",
   "metadata": {
    "id": "iYBZUTIJnVtd"
   },
   "source": [
    "## Data"
   ]
  },
  {
   "cell_type": "markdown",
   "metadata": {
    "id": "p3T_JNNeooCd"
   },
   "source": [
    "The dataset [1] which is going to be analyzed, contains information about customers of a company. This includes information in terms of the customer profile, preferences as well as sale channels. Besides that, details about corresponding marketing campaigns are given.  \n",
    "\n",
    "Marketing, is among other things, one of the key factors for a successfull company. In order to be successfull, one the most important thing is to know your target group and the way how to approach them. The following dataset gives insights about the customer themself and enables companies to target them.\n",
    "\n",
    "The dataset is a great example of how proper data analysation and visualization can enable direct business insights. Getting to know the customer, discovering correlations or cluster customers are just a few examples which can be achieved through this data.  \n",
    "\n",
    "Due to the complexity of the original dataset, a few columns were removed. The structure of the final dataset is as follow:\n",
    "\n",
    "    - \"ID:  Customer's unique identifier\n",
    "    - Year_Birth:  Customer's birth year\n",
    "    - Education:  Customer's education level\n",
    "    - Marital_Status:  Customer's marital status\n",
    "    - Income:  Customer's yearly household income\n",
    "    - Kidhome:  Number of children in customer's household\n",
    "    - Dt_Customer:  Date of customer's enrollment with the company\n",
    "    - Recency:  Number of days since customer's last purchase\n",
    "    - NumDealsPurchases:  Number of purchases made with a discount\n",
    "    - NumWebPurchases:  Number of purchases made through the company's web site\n",
    "    - NumCatalogPurchases:  Number of purchases made using a catalogue\n",
    "    - NumStorePurchases:  Number of purchases made directly in stores\n",
    "    - NumWebVisitsMonth:  Number of visits to company's web site in the last month\n",
    "    - Country:  Customer's location\"[1]\n",
    "    \n",
    "The dataset was published by **Jack Daoud** on **Kaggle** and can be found through the following **URL:** https://www.kaggle.com/jackdaoud/marketing-data."
   ]
  },
  {
   "cell_type": "code",
   "execution_count": 2,
   "metadata": {
    "colab": {
     "base_uri": "https://localhost:8080/"
    },
    "id": "OXZ1k2hNQqhH",
    "outputId": "51f4ba23-bef3-4e43-9f67-cadcdd362ba5"
   },
   "outputs": [
    {
     "name": "stdout",
     "output_type": "stream",
     "text": [
      "<class 'pandas.core.frame.DataFrame'>\n",
      "RangeIndex: 2240 entries, 0 to 2239\n",
      "Data columns (total 14 columns):\n",
      " #   Column               Non-Null Count  Dtype \n",
      "---  ------               --------------  ----- \n",
      " 0   ID                   2240 non-null   int64 \n",
      " 1   Year_Birth           2240 non-null   int64 \n",
      " 2   Education            2240 non-null   object\n",
      " 3   Marital_Status       2240 non-null   object\n",
      " 4    Income              2216 non-null   object\n",
      " 5   Kidhome              2240 non-null   int64 \n",
      " 6   Dt_Customer          2240 non-null   object\n",
      " 7   Recency              2240 non-null   int64 \n",
      " 8   NumDealsPurchases    2240 non-null   int64 \n",
      " 9   NumWebPurchases      2240 non-null   int64 \n",
      " 10  NumCatalogPurchases  2240 non-null   int64 \n",
      " 11  NumStorePurchases    2240 non-null   int64 \n",
      " 12  NumWebVisitsMonth    2240 non-null   int64 \n",
      " 13  Country              2240 non-null   object\n",
      "dtypes: int64(9), object(5)\n",
      "memory usage: 245.1+ KB\n"
     ]
    }
   ],
   "source": [
    "df = pd.read_csv(\"dataset.csv\", index_col = None)\n",
    "df = df.drop(columns=['Teenhome', 'MntWines', 'MntFruits', 'MntMeatProducts', 'MntFishProducts', 'MntSweetProducts', 'MntGoldProds','AcceptedCmp3', 'AcceptedCmp2', 'AcceptedCmp1', 'AcceptedCmp4', 'AcceptedCmp5', 'Response', 'Complain'])\n",
    "df.info()"
   ]
  },
  {
   "cell_type": "markdown",
   "metadata": {
    "id": "fPHhXvN0sWyw"
   },
   "source": [
    "The output above gives an overview about the key information of the dataset. It can be seen that most of the data is either of type int or string/object. There are no null values."
   ]
  },
  {
   "cell_type": "markdown",
   "metadata": {
    "id": "fimRP5JbsFt4"
   },
   "source": [
    "**Problem: Data preprocessing - space in column name: \" Income \"**"
   ]
  },
  {
   "cell_type": "code",
   "execution_count": 3,
   "metadata": {
    "colab": {
     "base_uri": "https://localhost:8080/"
    },
    "id": "afFn93H41vNi",
    "outputId": "e11816bd-5066-4bcf-8801-2c9d592a0dec"
   },
   "outputs": [],
   "source": [
    "df = df.rename(columns={\" Income \": \"Income\"})"
   ]
  },
  {
   "cell_type": "code",
   "execution_count": 4,
   "metadata": {
    "colab": {
     "base_uri": "https://localhost:8080/",
     "height": 270
    },
    "id": "-K6Z1Cyi0dUG",
    "outputId": "52b85fd1-578a-4257-e3d3-d0776913eb80"
   },
   "outputs": [
    {
     "data": {
      "text/html": [
       "<div>\n",
       "<style scoped>\n",
       "    .dataframe tbody tr th:only-of-type {\n",
       "        vertical-align: middle;\n",
       "    }\n",
       "\n",
       "    .dataframe tbody tr th {\n",
       "        vertical-align: top;\n",
       "    }\n",
       "\n",
       "    .dataframe thead th {\n",
       "        text-align: right;\n",
       "    }\n",
       "</style>\n",
       "<table border=\"1\" class=\"dataframe\">\n",
       "  <thead>\n",
       "    <tr style=\"text-align: right;\">\n",
       "      <th></th>\n",
       "      <th>ID</th>\n",
       "      <th>Year_Birth</th>\n",
       "      <th>Education</th>\n",
       "      <th>Marital_Status</th>\n",
       "      <th>Income</th>\n",
       "      <th>Kidhome</th>\n",
       "      <th>Dt_Customer</th>\n",
       "      <th>Recency</th>\n",
       "      <th>NumDealsPurchases</th>\n",
       "      <th>NumWebPurchases</th>\n",
       "      <th>NumCatalogPurchases</th>\n",
       "      <th>NumStorePurchases</th>\n",
       "      <th>NumWebVisitsMonth</th>\n",
       "      <th>Country</th>\n",
       "    </tr>\n",
       "  </thead>\n",
       "  <tbody>\n",
       "    <tr>\n",
       "      <th>0</th>\n",
       "      <td>1826</td>\n",
       "      <td>1970</td>\n",
       "      <td>Graduation</td>\n",
       "      <td>Divorced</td>\n",
       "      <td>$84,835.00</td>\n",
       "      <td>0</td>\n",
       "      <td>6/16/14</td>\n",
       "      <td>0</td>\n",
       "      <td>1</td>\n",
       "      <td>4</td>\n",
       "      <td>4</td>\n",
       "      <td>6</td>\n",
       "      <td>1</td>\n",
       "      <td>SP</td>\n",
       "    </tr>\n",
       "    <tr>\n",
       "      <th>1</th>\n",
       "      <td>1</td>\n",
       "      <td>1961</td>\n",
       "      <td>Graduation</td>\n",
       "      <td>Single</td>\n",
       "      <td>$57,091.00</td>\n",
       "      <td>0</td>\n",
       "      <td>6/15/14</td>\n",
       "      <td>0</td>\n",
       "      <td>1</td>\n",
       "      <td>7</td>\n",
       "      <td>3</td>\n",
       "      <td>7</td>\n",
       "      <td>5</td>\n",
       "      <td>CA</td>\n",
       "    </tr>\n",
       "    <tr>\n",
       "      <th>2</th>\n",
       "      <td>10476</td>\n",
       "      <td>1958</td>\n",
       "      <td>Graduation</td>\n",
       "      <td>Married</td>\n",
       "      <td>$67,267.00</td>\n",
       "      <td>0</td>\n",
       "      <td>5/13/14</td>\n",
       "      <td>0</td>\n",
       "      <td>1</td>\n",
       "      <td>3</td>\n",
       "      <td>2</td>\n",
       "      <td>5</td>\n",
       "      <td>2</td>\n",
       "      <td>US</td>\n",
       "    </tr>\n",
       "    <tr>\n",
       "      <th>3</th>\n",
       "      <td>1386</td>\n",
       "      <td>1967</td>\n",
       "      <td>Graduation</td>\n",
       "      <td>Together</td>\n",
       "      <td>$32,474.00</td>\n",
       "      <td>1</td>\n",
       "      <td>5/11/14</td>\n",
       "      <td>0</td>\n",
       "      <td>1</td>\n",
       "      <td>1</td>\n",
       "      <td>0</td>\n",
       "      <td>2</td>\n",
       "      <td>7</td>\n",
       "      <td>AUS</td>\n",
       "    </tr>\n",
       "    <tr>\n",
       "      <th>4</th>\n",
       "      <td>5371</td>\n",
       "      <td>1989</td>\n",
       "      <td>Graduation</td>\n",
       "      <td>Single</td>\n",
       "      <td>$21,474.00</td>\n",
       "      <td>1</td>\n",
       "      <td>4/8/14</td>\n",
       "      <td>0</td>\n",
       "      <td>2</td>\n",
       "      <td>3</td>\n",
       "      <td>1</td>\n",
       "      <td>2</td>\n",
       "      <td>7</td>\n",
       "      <td>SP</td>\n",
       "    </tr>\n",
       "  </tbody>\n",
       "</table>\n",
       "</div>"
      ],
      "text/plain": [
       "      ID  Year_Birth   Education Marital_Status       Income  Kidhome  \\\n",
       "0   1826        1970  Graduation       Divorced  $84,835.00         0   \n",
       "1      1        1961  Graduation         Single  $57,091.00         0   \n",
       "2  10476        1958  Graduation        Married  $67,267.00         0   \n",
       "3   1386        1967  Graduation       Together  $32,474.00         1   \n",
       "4   5371        1989  Graduation         Single  $21,474.00         1   \n",
       "\n",
       "  Dt_Customer  Recency  NumDealsPurchases  NumWebPurchases  \\\n",
       "0     6/16/14        0                  1                4   \n",
       "1     6/15/14        0                  1                7   \n",
       "2     5/13/14        0                  1                3   \n",
       "3     5/11/14        0                  1                1   \n",
       "4      4/8/14        0                  2                3   \n",
       "\n",
       "   NumCatalogPurchases  NumStorePurchases  NumWebVisitsMonth Country  \n",
       "0                    4                  6                  1      SP  \n",
       "1                    3                  7                  5      CA  \n",
       "2                    2                  5                  2      US  \n",
       "3                    0                  2                  7     AUS  \n",
       "4                    1                  2                  7      SP  "
      ]
     },
     "execution_count": 4,
     "metadata": {},
     "output_type": "execute_result"
    }
   ],
   "source": [
    "df.head()"
   ]
  },
  {
   "cell_type": "markdown",
   "metadata": {},
   "source": [
    "**Problem: missleading/missing information - Education & Marital_Status**\n",
    "\n",
    "For instance, what is exactly meant by the Education Level \"Graduation\"?"
   ]
  },
  {
   "cell_type": "code",
   "execution_count": 5,
   "metadata": {},
   "outputs": [
    {
     "data": {
      "text/plain": [
       "Education\n",
       "2n Cycle       203\n",
       "Basic           54\n",
       "Graduation    1127\n",
       "Master         370\n",
       "PhD            486\n",
       "dtype: int64"
      ]
     },
     "execution_count": 5,
     "metadata": {},
     "output_type": "execute_result"
    }
   ],
   "source": [
    "df.groupby(['Education']).size()"
   ]
  },
  {
   "cell_type": "code",
   "execution_count": 6,
   "metadata": {},
   "outputs": [
    {
     "data": {
      "text/plain": [
       "Marital_Status\n",
       "Absurd        2\n",
       "Alone         3\n",
       "Divorced    232\n",
       "Married     864\n",
       "Single      480\n",
       "Together    580\n",
       "Widow        77\n",
       "YOLO          2\n",
       "dtype: int64"
      ]
     },
     "execution_count": 6,
     "metadata": {},
     "output_type": "execute_result"
    }
   ],
   "source": [
    "df.groupby(['Marital_Status']).size()"
   ]
  },
  {
   "cell_type": "markdown",
   "metadata": {},
   "source": [
    "Further data preprocessing could be required to, for instance, clean the dataset and avoid missunderstandings."
   ]
  },
  {
   "cell_type": "markdown",
   "metadata": {
    "id": "dRZ4I8m_XYD9"
   },
   "source": [
    "## 1. Question: How many purchases were made with a discount?"
   ]
  },
  {
   "cell_type": "code",
   "execution_count": 7,
   "metadata": {
    "colab": {
     "base_uri": "https://localhost:8080/",
     "height": 350
    },
    "id": "WjlTBta8KyKw",
    "outputId": "f223f183-c6d3-4008-81d5-53d882ff5633"
   },
   "outputs": [
    {
     "data": {
      "image/png": "[encoded data removed]",
      "text/plain": [
       "<Figure size 720x360 with 1 Axes>"
      ]
     },
     "metadata": {
      "needs_background": "light"
     },
     "output_type": "display_data"
    }
   ],
   "source": [
    "dis = df.groupby(['NumDealsPurchases']).size()\n",
    "dis = dict(dis) \n",
    "dis_amount = list(dis.keys())\n",
    "dis_counts = list(dis.values())\n",
    "  \n",
    "fig = plt.figure(figsize = (10, 5))\n",
    "\n",
    "plt.bar(dis_amount, dis_counts, width = 0.4)\n",
    " \n",
    "plt.xlabel(\"Number of purchases\")\n",
    "plt.ylabel(\"Counts\")\n",
    "plt.title(\"Purchases made with a discount\")\n",
    "plt.show()"
   ]
  },
  {
   "cell_type": "markdown",
   "metadata": {},
   "source": [
    "**Results:** Based on the diagram, it can be seen that most of the customers had 1 purchase with a discount."
   ]
  },
  {
   "cell_type": "markdown",
   "metadata": {
    "id": "CFPTA8put1Vu"
   },
   "source": [
    "## 2. Question: How is the Income of the customers distributed?"
   ]
  },
  {
   "cell_type": "markdown",
   "metadata": {
    "id": "X7laq27w4RDW"
   },
   "source": [
    "**Problem: Income is type string/object, needs to be converted.**"
   ]
  },
  {
   "cell_type": "code",
   "execution_count": 8,
   "metadata": {
    "colab": {
     "base_uri": "https://localhost:8080/"
    },
    "id": "qPq4njEz0Rfn",
    "outputId": "75fea8ce-b326-492e-d7aa-f9a479e21ecf"
   },
   "outputs": [
    {
     "name": "stdout",
     "output_type": "stream",
     "text": [
      "Income data type before conversion: object\n",
      "Income data type after conversion: float64\n"
     ]
    }
   ],
   "source": [
    "print(\"Income data type before conversion: \" + str(df.dtypes['Income']))\n",
    "df[\"Income\"] = df[\"Income\"].replace(\"[$,]\", \"\", regex=True).astype(float)\n",
    "print(\"Income data type after conversion: \" + str(df.dtypes['Income']))"
   ]
  },
  {
   "cell_type": "markdown",
   "metadata": {
    "id": "QYZhWzEyuXIr"
   },
   "source": [
    "**Problem: null values in column \"Income\".**"
   ]
  },
  {
   "cell_type": "code",
   "execution_count": 9,
   "metadata": {
    "colab": {
     "base_uri": "https://localhost:8080/"
    },
    "id": "mNrXYtQX5xpc",
    "outputId": "067769bc-c460-48e4-f823-35784bcc20da"
   },
   "outputs": [
    {
     "name": "stdout",
     "output_type": "stream",
     "text": [
      "Number of null values before data processing: 24\n",
      "Number of null values after data processing: 0\n"
     ]
    }
   ],
   "source": [
    "print(\"Number of null values before data processing: \" + str(df[\"Income\"].isnull().sum()))\n",
    "df = df.dropna()\n",
    "print(\"Number of null values after data processing: \" + str(df[\"Income\"].isnull().sum()))"
   ]
  },
  {
   "cell_type": "code",
   "execution_count": 10,
   "metadata": {},
   "outputs": [
    {
     "data": {
      "text/plain": [
       "Text(0.5, 6.79999999999999, 'Income in US-Dollar')"
      ]
     },
     "execution_count": 10,
     "metadata": {},
     "output_type": "execute_result"
    },
    {
     "data": {
      "image/png": "[encoded data removed]",
      "text/plain": [
       "<Figure size 360x360 with 1 Axes>"
      ]
     },
     "metadata": {
      "needs_background": "light"
     },
     "output_type": "display_data"
    }
   ],
   "source": [
    "sns.displot(df.Income)\n",
    "plt.xlabel(\"Income in US-Dollar\")"
   ]
  },
  {
   "cell_type": "markdown",
   "metadata": {
    "id": "rXkgrpNQQ-Ls"
   },
   "source": [
    "**Problem: outliers distort the visualization.**"
   ]
  },
  {
   "cell_type": "code",
   "execution_count": 11,
   "metadata": {
    "id": "qhulYhVsrhTe"
   },
   "outputs": [],
   "source": [
    "# The following approach removes all the Incomes equal or greater 150 000 Dollar. \n",
    "Income = df[\"Income\"].apply(lambda x: x if (x < 150000) else None)"
   ]
  },
  {
   "cell_type": "code",
   "execution_count": 12,
   "metadata": {},
   "outputs": [
    {
     "data": {
      "text/plain": [
       "Text(0.5, 6.79999999999999, 'Income in US-Dollar')"
      ]
     },
     "execution_count": 12,
     "metadata": {},
     "output_type": "execute_result"
    },
    {
     "data": {
      "image/png": "[encoded data removed]",
      "text/plain": [
       "<Figure size 360x360 with 1 Axes>"
      ]
     },
     "metadata": {
      "needs_background": "light"
     },
     "output_type": "display_data"
    }
   ],
   "source": [
    "sns.displot(Income,kde=True)\n",
    "plt.xlabel(\"Income in US-Dollar\")"
   ]
  },
  {
   "cell_type": "markdown",
   "metadata": {},
   "source": [
    "**Results:** The graphs have shown that most of the yearly Incomes lie between 0 and 100 000 Dollar. It can be seen that the dataset contains several outliers, which were removed by setting the threshold to 150 000 Dollar. The income distribution has a similar shape like a gaussian distribution. "
   ]
  },
  {
   "cell_type": "markdown",
   "metadata": {
    "id": "LfQ5pUljaKrG"
   },
   "source": [
    "## 3. Question: Which sale channel is mostly used by the customers?"
   ]
  },
  {
   "cell_type": "code",
   "execution_count": 13,
   "metadata": {
    "colab": {
     "base_uri": "https://localhost:8080/",
     "height": 678
    },
    "id": "RRFLm4FYRGRI",
    "outputId": "20480526-d8e0-450f-a00e-e3449e216623"
   },
   "outputs": [
    {
     "data": {
      "text/plain": [
       "Text(0.5, 6.79999999999999, 'Number of Purchases')"
      ]
     },
     "execution_count": 13,
     "metadata": {},
     "output_type": "execute_result"
    },
    {
     "data": {
      "image/png": "[encoded data removed]",
      "text/plain": [
       "<Figure size 508.5x360 with 1 Axes>"
      ]
     },
     "metadata": {
      "needs_background": "light"
     },
     "output_type": "display_data"
    }
   ],
   "source": [
    "sns.displot(data=df[[\"NumWebPurchases\", \"NumCatalogPurchases\", \"NumStorePurchases\"]], kind=\"kde\", fill=True)\n",
    "plt.xlabel(\"Number of Purchases\")"
   ]
  },
  {
   "cell_type": "code",
   "execution_count": 14,
   "metadata": {
    "id": "_x9ZlOGzSBuO"
   },
   "outputs": [
    {
     "data": {
      "text/plain": [
       "Text(0, 0.5, 'Number of Purchases')"
      ]
     },
     "execution_count": 14,
     "metadata": {},
     "output_type": "execute_result"
    },
    {
     "data": {
      "image/png": "[encoded data removed]",
      "text/plain": [
       "<Figure size 432x288 with 1 Axes>"
      ]
     },
     "metadata": {
      "needs_background": "light"
     },
     "output_type": "display_data"
    }
   ],
   "source": [
    "sns.barplot(data=df[[\"NumWebPurchases\", \"NumCatalogPurchases\", \"NumStorePurchases\"]], ci=95)\n",
    "plt.xlabel(\"Sale Channel\")\n",
    "plt.ylabel(\"Number of Purchases\")"
   ]
  },
  {
   "cell_type": "markdown",
   "metadata": {
    "id": "RzyRXbepQWep"
   },
   "source": [
    "**Note:** confidence interval = 95%."
   ]
  },
  {
   "cell_type": "markdown",
   "metadata": {},
   "source": [
    "**Result:** The distribution of the different sale channels can be analysed by the presented graphs. Thereby it gets clear, that on average the number of store purchases is bigger then on web or from the catalogue. "
   ]
  },
  {
   "cell_type": "markdown",
   "metadata": {},
   "source": [
    "## Source\n",
    "\n",
    "[1] Jack Daoud; Marketing Analytics; https://www.kaggle.com/jackdaoud/marketing-data"
   ]
  },
  {
   "cell_type": "markdown",
   "metadata": {},
   "source": [
    "-----------------------------------------------------------\n",
    "Author: Franz Just"
   ]
  },
  {
   "cell_type": "code",
   "execution_count": null,
   "metadata": {},
   "outputs": [],
   "source": []
  }
 ],
 "metadata": {
  "colab": {
   "name": "Untitled25.ipynb",
   "provenance": []
  },
  "kernelspec": {
   "display_name": "Python 3",
   "language": "python",
   "name": "python3"
  },
  "language_info": {
   "codemirror_mode": {
    "name": "ipython",
    "version": 3
   },
   "file_extension": ".py",
   "mimetype": "text/x-python",
   "name": "python",
   "nbconvert_exporter": "python",
   "pygments_lexer": "ipython3",
   "version": "3.8.5"
  }
 },
 "nbformat": 4,
 "nbformat_minor": 1
}
