{
 "cells": [
  {
   "cell_type": "markdown",
   "metadata": {
    "id": "kLM_MLD4ghRU"
   },
   "source": [
    "# Homework No. 7"
   ]
  },
  {
   "cell_type": "markdown",
   "metadata": {
    "id": "nCNKA8fglcMs"
   },
   "source": [
    "The following jupyter notebook contains the results of the seventh homework for the course: \"Data Visualization\" and was created by Franz Just.\n",
    "\n",
    "To execute the jupyter notebook, the following libraries are required to install:\n",
    "- pandas\n",
    "- seaborn\n",
    "- matplotlib\n",
    "- numpy\n",
    "- sklearn\n",
    "\n",
    "The dataset that is used was published by **Jack Daoud** on **Kaggle** and can be found through the following **URL:** https://www.kaggle.com/jackdaoud/marketing-data."
   ]
  },
  {
   "cell_type": "code",
   "execution_count": 20,
   "metadata": {
    "id": "YtuvQAxKwdBg"
   },
   "outputs": [],
   "source": [
    "%matplotlib inline\n",
    "import pandas as pd\n",
    "import seaborn as sns\n",
    "import matplotlib.pyplot as plt\n",
    "import numpy as np\n",
    "import warnings\n",
    "warnings.filterwarnings('ignore')\n",
    "from sklearn.preprocessing import StandardScaler"
   ]
  },
  {
   "cell_type": "code",
   "execution_count": 21,
   "metadata": {},
   "outputs": [],
   "source": [
    "df = pd.read_csv(\"dataset.csv\", index_col = None)\n",
    "df = df.rename(columns={\" Income \": \"Income\"})\n",
    "df[\"Income\"] = df[\"Income\"].replace(\"[$,]\", \"\", regex=True).astype(float)\n",
    "df = df.dropna()\n",
    "df2 = df[[\"Income\", \"Kidhome\", \"Teenhome\", \"Year_Birth\", \"Recency\", \"NumDealsPurchases\", \"NumCatalogPurchases\", \"NumStorePurchases\", \"NumWebPurchases\", \"NumWebVisitsMonth\"]]"
   ]
  },
  {
   "cell_type": "markdown",
   "metadata": {},
   "source": [
    "In order to do a prinipal component analysis, a sub-dataset was created with the following columns:\n",
    "\n",
    "- Income\n",
    "- Kidhome\n",
    "- Teenhome\n",
    "- Year_Birth\n",
    "- Recency\n",
    "- NumDealsPurchases\n",
    "- NumCatalogPurchases\n",
    "- NumStorePurchases\n",
    "- NumWebPurchases\n",
    "- NumWebVisitsMonth"
   ]
  },
  {
   "cell_type": "markdown",
   "metadata": {},
   "source": [
    "## Data processing"
   ]
  },
  {
   "cell_type": "markdown",
   "metadata": {},
   "source": [
    "Before the actual analysis, the data needs to be normalized."
   ]
  },
  {
   "cell_type": "code",
   "execution_count": 22,
   "metadata": {},
   "outputs": [],
   "source": [
    "scaler = StandardScaler()\n",
    "df_scaled = scaler.fit_transform(df2)"
   ]
  },
  {
   "cell_type": "markdown",
   "metadata": {},
   "source": [
    "## Principal Component Analysis (PCA)"
   ]
  },
  {
   "cell_type": "code",
   "execution_count": 23,
   "metadata": {},
   "outputs": [],
   "source": [
    "from sklearn.decomposition import PCA"
   ]
  },
  {
   "cell_type": "code",
   "execution_count": 24,
   "metadata": {},
   "outputs": [
    {
     "data": {
      "image/png": "[encoded data removed]",
      "text/plain": [
       "<Figure size 432x288 with 1 Axes>"
      ]
     },
     "metadata": {
      "needs_background": "light"
     },
     "output_type": "display_data"
    }
   ],
   "source": [
    "pca = PCA().fit(df_scaled)\n",
    "\n",
    "plt.plot(pca.explained_variance_ratio_.cumsum(), lw=3, color='#087E8B')\n",
    "plt.title('Cumulative explained variance by the number of principal components', size=14)\n",
    "plt.ylabel('Variance')\n",
    "plt.xlabel('Principal Component')\n",
    "plt.show()"
   ]
  },
  {
   "cell_type": "markdown",
   "metadata": {},
   "source": [
    "In the diagram above, we can see on the x-axis the principal components and on the y-axis the variance they explain. By that it get's clear that the first component already explains more then 50% of the variance in the dataset. It can be observed that by increasing the amount of principal components, the the rate of variance per component shrinks. "
   ]
  },
  {
   "cell_type": "markdown",
   "metadata": {},
   "source": [
    "### Feature Importance"
   ]
  },
  {
   "cell_type": "code",
   "execution_count": 25,
   "metadata": {},
   "outputs": [
    {
     "data": {
      "text/html": [
       "<div>\n",
       "<style scoped>\n",
       "    .dataframe tbody tr th:only-of-type {\n",
       "        vertical-align: middle;\n",
       "    }\n",
       "\n",
       "    .dataframe tbody tr th {\n",
       "        vertical-align: top;\n",
       "    }\n",
       "\n",
       "    .dataframe thead th {\n",
       "        text-align: right;\n",
       "    }\n",
       "</style>\n",
       "<table border=\"1\" class=\"dataframe\">\n",
       "  <thead>\n",
       "    <tr style=\"text-align: right;\">\n",
       "      <th></th>\n",
       "      <th>PC1</th>\n",
       "      <th>PC2</th>\n",
       "      <th>PC3</th>\n",
       "      <th>PC4</th>\n",
       "      <th>PC5</th>\n",
       "      <th>PC6</th>\n",
       "      <th>PC7</th>\n",
       "      <th>PC8</th>\n",
       "      <th>PC9</th>\n",
       "      <th>PC10</th>\n",
       "    </tr>\n",
       "  </thead>\n",
       "  <tbody>\n",
       "    <tr>\n",
       "      <th>Income</th>\n",
       "      <td>0.795685</td>\n",
       "      <td>-0.040649</td>\n",
       "      <td>-0.033809</td>\n",
       "      <td>0.003322</td>\n",
       "      <td>0.305546</td>\n",
       "      <td>0.011536</td>\n",
       "      <td>0.374686</td>\n",
       "      <td>0.198427</td>\n",
       "      <td>0.301877</td>\n",
       "      <td>0.012086</td>\n",
       "    </tr>\n",
       "    <tr>\n",
       "      <th>Kidhome</th>\n",
       "      <td>-0.746741</td>\n",
       "      <td>0.056334</td>\n",
       "      <td>-0.168156</td>\n",
       "      <td>0.075743</td>\n",
       "      <td>0.409806</td>\n",
       "      <td>0.207862</td>\n",
       "      <td>0.337337</td>\n",
       "      <td>-0.139021</td>\n",
       "      <td>-0.209217</td>\n",
       "      <td>-0.132668</td>\n",
       "    </tr>\n",
       "    <tr>\n",
       "      <th>Teenhome</th>\n",
       "      <td>0.023383</td>\n",
       "      <td>0.761167</td>\n",
       "      <td>0.366625</td>\n",
       "      <td>-0.053867</td>\n",
       "      <td>0.160202</td>\n",
       "      <td>-0.451477</td>\n",
       "      <td>0.022226</td>\n",
       "      <td>0.150370</td>\n",
       "      <td>-0.120314</td>\n",
       "      <td>-0.127029</td>\n",
       "    </tr>\n",
       "    <tr>\n",
       "      <th>Year_Birth</th>\n",
       "      <td>-0.288168</td>\n",
       "      <td>-0.414397</td>\n",
       "      <td>-0.710367</td>\n",
       "      <td>0.113962</td>\n",
       "      <td>0.087192</td>\n",
       "      <td>-0.445869</td>\n",
       "      <td>-0.043009</td>\n",
       "      <td>0.138994</td>\n",
       "      <td>-0.022489</td>\n",
       "      <td>0.000995</td>\n",
       "    </tr>\n",
       "    <tr>\n",
       "      <th>Recency</th>\n",
       "      <td>0.009167</td>\n",
       "      <td>0.009538</td>\n",
       "      <td>0.173501</td>\n",
       "      <td>0.982881</td>\n",
       "      <td>-0.057914</td>\n",
       "      <td>-0.016983</td>\n",
       "      <td>0.012152</td>\n",
       "      <td>-0.000680</td>\n",
       "      <td>0.016956</td>\n",
       "      <td>0.006396</td>\n",
       "    </tr>\n",
       "    <tr>\n",
       "      <th>NumDealsPurchases</th>\n",
       "      <td>-0.111128</td>\n",
       "      <td>0.776647</td>\n",
       "      <td>-0.358064</td>\n",
       "      <td>0.079573</td>\n",
       "      <td>0.315790</td>\n",
       "      <td>0.133687</td>\n",
       "      <td>-0.265024</td>\n",
       "      <td>-0.065726</td>\n",
       "      <td>0.120139</td>\n",
       "      <td>0.209268</td>\n",
       "    </tr>\n",
       "    <tr>\n",
       "      <th>NumCatalogPurchases</th>\n",
       "      <td>0.796776</td>\n",
       "      <td>-0.080977</td>\n",
       "      <td>-0.163625</td>\n",
       "      <td>0.069483</td>\n",
       "      <td>0.172792</td>\n",
       "      <td>0.256892</td>\n",
       "      <td>-0.283753</td>\n",
       "      <td>0.244545</td>\n",
       "      <td>-0.160601</td>\n",
       "      <td>-0.255890</td>\n",
       "    </tr>\n",
       "    <tr>\n",
       "      <th>NumStorePurchases</th>\n",
       "      <td>0.782538</td>\n",
       "      <td>0.141015</td>\n",
       "      <td>-0.222461</td>\n",
       "      <td>0.024684</td>\n",
       "      <td>-0.043051</td>\n",
       "      <td>-0.157555</td>\n",
       "      <td>0.009119</td>\n",
       "      <td>-0.499389</td>\n",
       "      <td>0.059928</td>\n",
       "      <td>-0.195861</td>\n",
       "    </tr>\n",
       "    <tr>\n",
       "      <th>NumWebPurchases</th>\n",
       "      <td>0.577294</td>\n",
       "      <td>0.462698</td>\n",
       "      <td>-0.370724</td>\n",
       "      <td>0.028385</td>\n",
       "      <td>-0.384801</td>\n",
       "      <td>0.079045</td>\n",
       "      <td>0.273224</td>\n",
       "      <td>0.096797</td>\n",
       "      <td>-0.237645</td>\n",
       "      <td>0.141547</td>\n",
       "    </tr>\n",
       "    <tr>\n",
       "      <th>NumWebVisitsMonth</th>\n",
       "      <td>-0.694085</td>\n",
       "      <td>0.417133</td>\n",
       "      <td>-0.237934</td>\n",
       "      <td>0.004633</td>\n",
       "      <td>-0.342984</td>\n",
       "      <td>0.120879</td>\n",
       "      <td>0.039598</td>\n",
       "      <td>0.133118</td>\n",
       "      <td>0.242973</td>\n",
       "      <td>-0.278368</td>\n",
       "    </tr>\n",
       "  </tbody>\n",
       "</table>\n",
       "</div>"
      ],
      "text/plain": [
       "                          PC1       PC2       PC3       PC4       PC5  \\\n",
       "Income               0.795685 -0.040649 -0.033809  0.003322  0.305546   \n",
       "Kidhome             -0.746741  0.056334 -0.168156  0.075743  0.409806   \n",
       "Teenhome             0.023383  0.761167  0.366625 -0.053867  0.160202   \n",
       "Year_Birth          -0.288168 -0.414397 -0.710367  0.113962  0.087192   \n",
       "Recency              0.009167  0.009538  0.173501  0.982881 -0.057914   \n",
       "NumDealsPurchases   -0.111128  0.776647 -0.358064  0.079573  0.315790   \n",
       "NumCatalogPurchases  0.796776 -0.080977 -0.163625  0.069483  0.172792   \n",
       "NumStorePurchases    0.782538  0.141015 -0.222461  0.024684 -0.043051   \n",
       "NumWebPurchases      0.577294  0.462698 -0.370724  0.028385 -0.384801   \n",
       "NumWebVisitsMonth   -0.694085  0.417133 -0.237934  0.004633 -0.342984   \n",
       "\n",
       "                          PC6       PC7       PC8       PC9      PC10  \n",
       "Income               0.011536  0.374686  0.198427  0.301877  0.012086  \n",
       "Kidhome              0.207862  0.337337 -0.139021 -0.209217 -0.132668  \n",
       "Teenhome            -0.451477  0.022226  0.150370 -0.120314 -0.127029  \n",
       "Year_Birth          -0.445869 -0.043009  0.138994 -0.022489  0.000995  \n",
       "Recency             -0.016983  0.012152 -0.000680  0.016956  0.006396  \n",
       "NumDealsPurchases    0.133687 -0.265024 -0.065726  0.120139  0.209268  \n",
       "NumCatalogPurchases  0.256892 -0.283753  0.244545 -0.160601 -0.255890  \n",
       "NumStorePurchases   -0.157555  0.009119 -0.499389  0.059928 -0.195861  \n",
       "NumWebPurchases      0.079045  0.273224  0.096797 -0.237645  0.141547  \n",
       "NumWebVisitsMonth    0.120879  0.039598  0.133118  0.242973 -0.278368  "
      ]
     },
     "execution_count": 25,
     "metadata": {},
     "output_type": "execute_result"
    }
   ],
   "source": [
    "ldg = pd.DataFrame(\n",
    "    data=pca.components_.T * np.sqrt(pca.explained_variance_), \n",
    "    columns=[f'PC{i}' for i in range(1, len(df2.columns) + 1)],\n",
    "    index=df2.columns\n",
    ")\n",
    "ldg.head(10)"
   ]
  },
  {
   "cell_type": "markdown",
   "metadata": {},
   "source": [
    "In the table above, the importance of the data attributes can be analysed. That means, the correlation between the principal components as well as the data attributes was computed. \n",
    "\n",
    "The following diagram hereby visualizes the features importance for the first principal component. "
   ]
  },
  {
   "cell_type": "code",
   "execution_count": 26,
   "metadata": {
    "scrolled": false
   },
   "outputs": [
    {
     "data": {
      "image/png": "[encoded data removed]",
      "text/plain": [
       "<Figure size 432x288 with 1 Axes>"
      ]
     },
     "metadata": {
      "needs_background": "light"
     },
     "output_type": "display_data"
    }
   ],
   "source": [
    "pcldg = ldg.sort_values(by='PC1', ascending=False)[['PC1']]\n",
    "pcldg = pcldg.reset_index()\n",
    "pcldg.columns = ['Attribute', 'Correlation']\n",
    "\n",
    "plt.bar(x=pcldg['Attribute'], height=pcldg['Correlation'], color='#087E8B')\n",
    "plt.title('First principal component', size=14)\n",
    "plt.xticks(rotation='vertical')\n",
    "plt.ylabel('Correlation')\n",
    "plt.xlabel('Attributes')\n",
    "plt.show()"
   ]
  },
  {
   "cell_type": "markdown",
   "metadata": {},
   "source": [
    "Because of the fact that a dataset with 10 different features is hard to visualize, we can take the first 2 principal components and visualize them in a 2D scatter plot. By that, around 60% of the variance in the dataset is explained. "
   ]
  },
  {
   "cell_type": "code",
   "execution_count": 27,
   "metadata": {},
   "outputs": [
    {
     "data": {
      "image/png": "[encoded data removed]",
      "text/plain": [
       "<Figure size 432x288 with 1 Axes>"
      ]
     },
     "metadata": {
      "needs_background": "light"
     },
     "output_type": "display_data"
    }
   ],
   "source": [
    "pca = PCA().fit_transform(df_scaled)\n",
    "\n",
    "plt.scatter(pca[:, 0], pca[:, 1])\n",
    "plt.xlabel('principal component 1')\n",
    "plt.ylabel('principal component 2')\n",
    "plt.title('2D Principal Component Visualization', size=14);"
   ]
  },
  {
   "cell_type": "markdown",
   "metadata": {},
   "source": [
    "## Source\n",
    "\n",
    "[1] Jack Daoud; Marketing Analytics; https://www.kaggle.com/jackdaoud/marketing-data"
   ]
  },
  {
   "cell_type": "markdown",
   "metadata": {},
   "source": [
    "-----------------------------------------------------------\n",
    "Author: Franz Just"
   ]
  },
  {
   "cell_type": "code",
   "execution_count": null,
   "metadata": {},
   "outputs": [],
   "source": []
  }
 ],
 "metadata": {
  "colab": {
   "name": "Untitled25.ipynb",
   "provenance": []
  },
  "kernelspec": {
   "display_name": "Python 3",
   "language": "python",
   "name": "python3"
  },
  "language_info": {
   "codemirror_mode": {
    "name": "ipython",
    "version": 3
   },
   "file_extension": ".py",
   "mimetype": "text/x-python",
   "name": "python",
   "nbconvert_exporter": "python",
   "pygments_lexer": "ipython3",
   "version": "3.8.5"
  }
 },
 "nbformat": 4,
 "nbformat_minor": 1
}
